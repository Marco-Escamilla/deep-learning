{
 "cells": [
  {
   "cell_type": "markdown",
   "id": "936c9767",
   "metadata": {},
   "source": [
    "Se importan las bibliotecas que se van a implementar"
   ]
  },
  {
   "cell_type": "code",
   "execution_count": 1,
   "id": "abe27450",
   "metadata": {},
   "outputs": [],
   "source": [
    "import cv2 as cv             # biblioteca libre de visión artificial\n",
    "import os                    # El módulo os permite acceder a funciones dependientes del sistema operativo\n",
    "import glob                  # Este módulo encuentra todos los nombres de ruta que coinciden con un patrón\n",
    "import numpy as np           # biblioteca que da soporte para crear vectores y matrices\n",
    "import imutils               # biblioteca para la generación de gráficos a partit de datos\n",
    "import random                # biblioteca para la generacion de números seudoaleatorios "
   ]
  },
  {
   "cell_type": "markdown",
   "id": "0d60ba6e",
   "metadata": {},
   "source": [
    "input_imagenes_path es la direccion donde se encuentra el dataset de los simpson descargado de kaggle\n",
    "output_imagenes_path es la direccion dende se van a guardar el aumento de imagenes, si la carpeta no existe se crea con makerdir con el nombre de cada personaje"
   ]
  },
  {
   "cell_type": "code",
   "execution_count": 2,
   "id": "6ea6c9d8",
   "metadata": {},
   "outputs": [],
   "source": [
    "input_images_path = \"C:\\\\Users\\\\terbi\\\\OneDrive\\\\Escritorio\\\\Los Simpsons\\\\simpsons_dataset\\\\\""
   ]
  },
  {
   "cell_type": "code",
   "execution_count": 3,
   "id": "d0cde6b4",
   "metadata": {},
   "outputs": [],
   "source": [
    "output_images_path = \"C:\\\\Users\\\\terbi\\\\OneDrive\\\\Escritorio\\\\Los Simpsons\\\\simpsons_filtro\\\\\""
   ]
  },
  {
   "cell_type": "code",
   "execution_count": 4,
   "id": "fd9e3feb",
   "metadata": {},
   "outputs": [],
   "source": [
    "if not os.path.exists(output_images_path):\n",
    "            os.makedirs(output_images_path)"
   ]
  },
  {
   "cell_type": "code",
   "execution_count": 5,
   "id": "138ec3a6",
   "metadata": {},
   "outputs": [],
   "source": [
    "files_names = os.listdir(input_images_path)"
   ]
  },
  {
   "cell_type": "raw",
   "id": "9744cb14",
   "metadata": {},
   "source": [
    "Se imprime el nombre de las carpetas, en este dataset son 49 personajes"
   ]
  },
  {
   "cell_type": "code",
   "execution_count": 6,
   "id": "5273e7ad",
   "metadata": {},
   "outputs": [
    {
     "data": {
      "text/plain": [
       "['abraham_grampa_simpson',\n",
       " 'agnes_skinner',\n",
       " 'apu_nahasapeemapetilon',\n",
       " 'barney_gumble',\n",
       " 'bart_simpson',\n",
       " 'brandine_spuckler',\n",
       " 'carl_carlson',\n",
       " 'charles_montgomery_burns',\n",
       " 'chief_wiggum',\n",
       " 'cletus_spuckler',\n",
       " 'comic_book_guy',\n",
       " 'disco_stu',\n",
       " 'dolph_starbeam',\n",
       " 'duff_man',\n",
       " 'edna_krabappel',\n",
       " 'fat_tony',\n",
       " 'gary_chalmers',\n",
       " 'gil',\n",
       " 'groundskeeper_willie',\n",
       " 'homer_simpson',\n",
       " 'jimbo_jones',\n",
       " 'kearney_zzyzwicz',\n",
       " 'kent_brockman',\n",
       " 'krusty_the_clown',\n",
       " 'lenny_leonard',\n",
       " 'lionel_hutz',\n",
       " 'lisa_simpson',\n",
       " 'lunchlady_doris',\n",
       " 'maggie_simpson',\n",
       " 'marge_simpson',\n",
       " 'martin_prince',\n",
       " 'mayor_quimby',\n",
       " 'milhouse_van_houten',\n",
       " 'miss_hoover',\n",
       " 'moe_szyslak',\n",
       " 'ned_flanders',\n",
       " 'nelson_muntz',\n",
       " 'otto_mann',\n",
       " 'patty_bouvier',\n",
       " 'principal_skinner',\n",
       " 'professor_john_frink',\n",
       " 'rainier_wolfcastle',\n",
       " 'ralph_wiggum',\n",
       " 'selma_bouvier',\n",
       " 'sideshow_bob',\n",
       " 'sideshow_mel',\n",
       " 'snake_jailbird',\n",
       " 'troy_mcclure',\n",
       " 'waylon_smithers']"
      ]
     },
     "execution_count": 6,
     "metadata": {},
     "output_type": "execute_result"
    }
   ],
   "source": [
    "files_names"
   ]
  },
  {
   "cell_type": "code",
   "execution_count": 7,
   "id": "50962d96",
   "metadata": {},
   "outputs": [
    {
     "data": {
      "text/plain": [
       "49"
      ]
     },
     "execution_count": 7,
     "metadata": {},
     "output_type": "execute_result"
    }
   ],
   "source": [
    "h=len(files_names) # total de carpetas\n",
    "h"
   ]
  },
  {
   "cell_type": "code",
   "execution_count": 8,
   "id": "a3709988",
   "metadata": {},
   "outputs": [],
   "source": [
    "names_menores =['agnes_skinner', # lista de personajes menores de 800 imagenes\n",
    "'brandine_spuckler',\n",
    "'carl_carlson',\n",
    "'disco_stu',\n",
    "'duff_man',\n",
    "'fat_tony',\n",
    "'groundskeeper_willie',\n",
    "'kearney_zzyzwicz',\n",
    "'miss_hoover',\n",
    "'otto_mann',\n",
    "'patty_bouvier',\n",
    "'professor_john_frink',\n",
    "'ralph_wiggum',\n",
    "'selma_bouvier',\n",
    "'sideshow_mel',\n",
    "'snake_jailbird',\n",
    "'troy_mcclure']"
   ]
  },
  {
   "cell_type": "raw",
   "id": "4bbc5294",
   "metadata": {},
   "source": [
    "Aumento de datos"
   ]
  },
  {
   "cell_type": "code",
   "execution_count": 11,
   "id": "cb13def0",
   "metadata": {},
   "outputs": [],
   "source": [
    "tamaño=[]\n",
    "lower_yelow = np.array([10,100, 50])  #filtro de color amarillo claro en formato HSV\n",
    "upper_yelow = np.array([45,255,255])  # filtro de color amarillo obscuro en forrmato HSV\n",
    "for f in range(0,h):\n",
    "    count = 0\n",
    "    if not os.path.exists(output_images_path +files_names[f]):  #dirección por nombre de cada carpeta\n",
    "            os.makedirs(output_images_path + files_names[f])    #creación de cada carpeta\n",
    "    for img in os.listdir(input_images_path + files_names[f]):  \n",
    "        imagen = cv.imread(os.path.join(input_images_path + files_names[f],img)) #lecctura de cada imagen por carpeta\n",
    "        if imagen is None: # lee unicamente imagenes con extención .jpg o .pnj\n",
    "            continue\n",
    "        \n",
    "        imagen = imutils.resize(imagen,width = 200 ,height = 200) #redimenciona Las imagenes 200 x 200\n",
    "        gray = cv.cvtColor(imagen,cv.COLOR_BGR2GRAY)  #convierte la imagen a escala de grises\n",
    "        gray = cv.cvtColor(gray,cv.COLOR_GRAY2BGR)    #convierte las imagenes a formato rojo verde azúl\n",
    "        hsv = cv.cvtColor(imagen,cv.COLOR_BGR2HSV)    #convierte la imagenes a formato HSV\n",
    "        mask_yelow = cv.inRange(hsv,lower_yelow, upper_yelow) #une la imagen en formato HSV y los filtros amarrillo\n",
    "        mask = cv.medianBlur(mask_yelow,7) #desenfoque de mediana\n",
    "        filtro_amarillo = cv.bitwise_and(imagen, imagen, mask= mask_yelow) #une la umagen original y la imagen con el filtro de escala amarillo \n",
    "        inmask = cv.bitwise_not(mask) # operador  not para eleminar todo lo que no tenga el filtro amarillo\n",
    "        gris = cv.bitwise_and(gray, gray, mask=inmask)\n",
    "        simpsons = cv.add(filtro_amarillo,gris)\n",
    "        cv.imwrite(output_images_path + files_names[f] +\"\\\\\" + files_names[f] +\"_ \"+ \"real\" + \"_\" + str(count)+\".jpg\",imagen) #guarda la imagen original redimencionada y la guarda con extensión .jpg\n",
    "        cv.imwrite(output_images_path + files_names[f] +\"\\\\\" + files_names[f] +\"_ \"+ \"gray\" + \"_\" + str(count)+\".jpg\",gray)   #guarda la imagen en escala de grises redimencionada y la guarda con extensión .jpg\n",
    "        cv.imwrite(output_images_path + files_names[f] +\"\\\\\" + files_names[f] +\"_\" + \"filtro\"+ \"_\"+ str(count)+\".jpg\",simpsons) #guarda la imagen con el filtro amarillo redimencionada y la guarda con extensión .jpg\n",
    "            \n",
    "        for n in range(0,100):\n",
    "            r = random.randint(10, 180) # genera un número aleatorio de 10 a 180 \n",
    "            rotacion = cv.getRotationMatrix2D((100,100),r,1) #rota la imagen original seudoaletorio\n",
    "            imagen_rotada = cv.warpAffine(imagen,rotacion,(200,200)) #tranlada la imagen original seudoaletoriamente\n",
    "            r = random.randint(10, 360)\n",
    "            rotacion = cv.getRotationMatrix2D((100,100),-r,1)#rota la imagen en escala de grises seudoaletorio\n",
    "            imagen_rotada_gris = cv.warpAffine(gray,rotacion,(200,200))#tranlada la imagen original seudoaletoriamente\n",
    "            r = random.randint(0, 360)\n",
    "            rotacion = cv.getRotationMatrix2D((100,100),r,1)#rota la imagen con el filtro amarillo de grises seudoaletorio\n",
    "            imagen_rotada_amarillo = cv.warpAffine(simpsons,rotacion,(200,200))#tranlada la imagen con filtro amarillo seudoaletoriamente\n",
    "            cv.imwrite(output_images_path + files_names[f] +\"\\\\\" + files_names[f] +\"_\" + \"rotacion\"+ \"_\"+ str(count)+ \"_\"+ str(n)+\".jpg\",imagen_rotada)\n",
    "            cv.imwrite(output_images_path + files_names[f] +\"\\\\\" + files_names[f] +\"_\" + \"rotacion\"+ \"_\"+ str(count)+ \"_\"+ str(n)+\".jpg\",imagen_rotada_gris)\n",
    "            cv.imwrite(output_images_path + files_names[f] +\"\\\\\" + files_names[f] +\"_\" + \"rotacion\"+ \"_\"+ str(count)+ \"_\"+ str(n)+\".jpg\",imagen_rotada_amarillo)\n",
    "\n",
    "        count+=1\n",
    "    tamaño.append(count)"
   ]
  },
  {
   "cell_type": "code",
   "execution_count": 29,
   "id": "77b48036",
   "metadata": {},
   "outputs": [
    {
     "name": "stdout",
     "output_type": "stream",
     "text": [
      "valor maximo:  4434\n",
      "valor minimo:  58\n",
      "valor promedio:  704.469387755102\n"
     ]
    }
   ],
   "source": [
    "maximo = max(tamaño)\n",
    "minimo = min(tamaño)\n",
    "promedio = np.mean(tamaño)\n",
    "print(\"valor maximo: \",maximo)\n",
    "print(\"valor minimo: \",minimo)\n",
    "print(\"valor promedio: \",promedio)"
   ]
  },
  {
   "cell_type": "raw",
   "id": "233c0993",
   "metadata": {},
   "source": [
    "Otto es el personaje que menos aparece con 58 imagenes de muestra, se realizó aumento de datos para que el dataset no estubiera tan desbalenciado, además, todas las imagenes quedaron con la misma extención .jpg y el mismo tamaño 200 x 200 "
   ]
  }
 ],
 "metadata": {
  "kernelspec": {
   "display_name": "Python 3 (ipykernel)",
   "language": "python",
   "name": "python3"
  },
  "language_info": {
   "codemirror_mode": {
    "name": "ipython",
    "version": 3
   },
   "file_extension": ".py",
   "mimetype": "text/x-python",
   "name": "python",
   "nbconvert_exporter": "python",
   "pygments_lexer": "ipython3",
   "version": "3.9.12"
  }
 },
 "nbformat": 4,
 "nbformat_minor": 5
}
