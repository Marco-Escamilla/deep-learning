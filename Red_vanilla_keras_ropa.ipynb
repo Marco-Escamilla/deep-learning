{
  "nbformat": 4,
  "nbformat_minor": 0,
  "metadata": {
    "colab": {
      "provenance": [],
      "collapsed_sections": []
    },
    "kernelspec": {
      "name": "python3",
      "display_name": "Python 3"
    },
    "language_info": {
      "name": "python"
    },
    "accelerator": "GPU"
  },
  "cells": [
    {
      "cell_type": "code",
      "source": [
        "import tensorflow as tf                                # TensorFlow es una biblioteca de código abierto para aprendizaje automático\n",
        "import numpy as np                                     # NumPy es una biblioteca para el lenguaje de programación Python que da soporte para crear vectores y matrices grandes multidimensionales\n",
        "import matplotlib.pyplot as plt                        # Matplotlib es una biblioteca para la generación de gráficos a partir de datos\n",
        "%matplotlib inline\n",
        "from sklearn.preprocessing import LabelEncoder         # sklearn labelEncoder codifica las etiquetas de destino con un valor entre 0 y n_classes-1.\n",
        "from sklearn.preprocessing import OneHotEncoder        # sklearn OneHotEncoder codificación en one-hot"
      ],
      "metadata": {
        "id": "zzwsfnNankDS"
      },
      "execution_count": 1,
      "outputs": []
    },
    {
      "cell_type": "markdown",
      "source": [
        "Se guarda el datset en la variable fmnist "
      ],
      "metadata": {
        "id": "K3AoLDYShd6x"
      }
    },
    {
      "cell_type": "code",
      "source": [
        "fmnist = tf.keras.datasets.fashion_mnist\n",
        "\n",
        "(x_train, y_train), (x_test, y_test) = fmnist.load_data( )\n",
        "ejemplo = x_test[0]"
      ],
      "metadata": {
        "id": "mGFsqR2InlGd"
      },
      "execution_count": 76,
      "outputs": []
    },
    {
      "cell_type": "markdown",
      "source": [
        "Transformar la matriz de 28*28 a un vector de 784, incluye cambiar la forma de vector plano y dejar explicitamente el tipo de dato"
      ],
      "metadata": {
        "id": "fNHPLKiNhkST"
      }
    },
    {
      "cell_type": "code",
      "source": [
        "x_train=x_train.reshape(-1,28*28).astype('float32')\n",
        "x_test=x_test.reshape(-1,28*28).astype('float32')\n",
        "x_train.shape"
      ],
      "metadata": {
        "colab": {
          "base_uri": "https://localhost:8080/"
        },
        "id": "3Dlrpyvmn5vJ",
        "outputId": "d24f9c2e-8bd4-472b-c0b5-67ef3fc8e315"
      },
      "execution_count": 77,
      "outputs": [
        {
          "output_type": "execute_result",
          "data": {
            "text/plain": [
              "(60000, 784)"
            ]
          },
          "metadata": {},
          "execution_count": 77
        }
      ]
    },
    {
      "cell_type": "markdown",
      "source": [
        "Para codificar en One hot las etiquetas de los datos, las funciones de SKLearn\n",
        "\"sparse=False\", el resultado que nos dará es un vector"
      ],
      "metadata": {
        "id": "XCuzHA6thpvn"
      }
    },
    {
      "cell_type": "code",
      "source": [
        "# onehot encode\n",
        "onehot_encoder = OneHotEncoder(sparse=False)\n",
        "y_train = y_train.reshape(len(y_train), 1)\n",
        "y_train_onehot = onehot_encoder.fit_transform(y_train)\n",
        "\n",
        "y_test = y_test.reshape(len(y_test), 1)\n",
        "y_test_onehot = onehot_encoder.fit_transform(y_test)\n",
        "\n",
        "y_train_onehot.shape"
      ],
      "metadata": {
        "colab": {
          "base_uri": "https://localhost:8080/"
        },
        "id": "5ROmfc4eoATw",
        "outputId": "4562b097-89cf-479d-8557-4f065ee2dc24"
      },
      "execution_count": 4,
      "outputs": [
        {
          "output_type": "execute_result",
          "data": {
            "text/plain": [
              "(60000, 10)"
            ]
          },
          "metadata": {},
          "execution_count": 4
        }
      ]
    },
    {
      "cell_type": "markdown",
      "source": [
        "Declar la arquitectura en keras\n",
        "\n",
        "Sequential crea un contenedor al cual se podrán agregar diferentes elementos que definan el modelo a implementar\n",
        "\n",
        "Dense para definir el contenido de la red, recibe 3 parametros (salida , entrada, función de activación) "
      ],
      "metadata": {
        "id": "TnF2v3rvh52H"
      }
    },
    {
      "cell_type": "code",
      "source": [
        "modelo = tf.keras.Sequential()\n",
        "modelo.add(tf.keras.layers.Dense(50, input_shape=(784,) , activation='relu'))\n",
        "modelo.add(tf.keras.layers.Dense(50, activation = 'relu'))\n",
        "modelo.add(tf.keras.layers.Dense(10, activation = 'softmax'))"
      ],
      "metadata": {
        "id": "DBohQr5FoCNz"
      },
      "execution_count": 5,
      "outputs": []
    },
    {
      "cell_type": "markdown",
      "source": [
        "# Metricas\n",
        "\n",
        "En compile le decimos cómo se va a resolver la optimización de la red"
      ],
      "metadata": {
        "id": "qvt3TzHlkQx9"
      }
    },
    {
      "cell_type": "code",
      "source": [
        "modelo.compile(optimizer=tf.keras.optimizers.Adam(0.001),          # optimizador Adam con learning rate 0.001\n",
        "               loss=tf.keras.losses.categorical_crossentropy,      # calcular la perdida por entropia cruzada\n",
        "               metrics=['accuracy'])                               # Metrica exactitud "
      ],
      "metadata": {
        "id": "23rAkv3eoH-9"
      },
      "execution_count": 6,
      "outputs": []
    },
    {
      "cell_type": "code",
      "source": [
        "modelo.summary()"
      ],
      "metadata": {
        "colab": {
          "base_uri": "https://localhost:8080/"
        },
        "id": "WbOoua68of5v",
        "outputId": "b1f7547f-f256-4a35-beff-2ac1a06915d6"
      },
      "execution_count": 25,
      "outputs": [
        {
          "output_type": "stream",
          "name": "stdout",
          "text": [
            "Model: \"sequential\"\n",
            "_________________________________________________________________\n",
            " Layer (type)                Output Shape              Param #   \n",
            "=================================================================\n",
            " dense (Dense)               (None, 50)                39250     \n",
            "                                                                 \n",
            " dense_1 (Dense)             (None, 50)                2550      \n",
            "                                                                 \n",
            " dense_2 (Dense)             (None, 10)                510       \n",
            "                                                                 \n",
            "=================================================================\n",
            "Total params: 42,310\n",
            "Trainable params: 42,310\n",
            "Non-trainable params: 0\n",
            "_________________________________________________________________\n"
          ]
        }
      ]
    },
    {
      "cell_type": "markdown",
      "source": [
        "# Entrenamiento"
      ],
      "metadata": {
        "id": "_2s0qbL-lXlG"
      }
    },
    {
      "cell_type": "code",
      "source": [
        "historial = modelo.fit(x=x_train, y=y_train_onehot,batch_size =100, epochs=10, validation_data=(x_test,y_test_onehot))"
      ],
      "metadata": {
        "colab": {
          "base_uri": "https://localhost:8080/"
        },
        "id": "jcMrWxPfoWWq",
        "outputId": "1c2d38e6-9199-44ce-f61b-1de5a419f6d2"
      },
      "execution_count": 7,
      "outputs": [
        {
          "output_type": "stream",
          "name": "stdout",
          "text": [
            "Epoch 1/10\n",
            "600/600 [==============================] - 5s 4ms/step - loss: 2.8879 - accuracy: 0.6802 - val_loss: 0.8295 - val_accuracy: 0.7456\n",
            "Epoch 2/10\n",
            "600/600 [==============================] - 2s 3ms/step - loss: 0.7138 - accuracy: 0.7712 - val_loss: 0.7513 - val_accuracy: 0.7672\n",
            "Epoch 3/10\n",
            "600/600 [==============================] - 2s 3ms/step - loss: 0.6019 - accuracy: 0.7985 - val_loss: 0.6764 - val_accuracy: 0.7751\n",
            "Epoch 4/10\n",
            "600/600 [==============================] - 2s 3ms/step - loss: 0.5498 - accuracy: 0.8142 - val_loss: 0.5490 - val_accuracy: 0.8182\n",
            "Epoch 5/10\n",
            "600/600 [==============================] - 2s 3ms/step - loss: 0.5217 - accuracy: 0.8226 - val_loss: 0.5191 - val_accuracy: 0.8270\n",
            "Epoch 6/10\n",
            "600/600 [==============================] - 2s 3ms/step - loss: 0.5107 - accuracy: 0.8250 - val_loss: 0.6135 - val_accuracy: 0.7935\n",
            "Epoch 7/10\n",
            "600/600 [==============================] - 2s 3ms/step - loss: 0.4840 - accuracy: 0.8322 - val_loss: 0.5336 - val_accuracy: 0.8227\n",
            "Epoch 8/10\n",
            "600/600 [==============================] - 2s 3ms/step - loss: 0.4756 - accuracy: 0.8358 - val_loss: 0.5003 - val_accuracy: 0.8328\n",
            "Epoch 9/10\n",
            "600/600 [==============================] - 2s 3ms/step - loss: 0.4739 - accuracy: 0.8380 - val_loss: 0.5755 - val_accuracy: 0.8174\n",
            "Epoch 10/10\n",
            "600/600 [==============================] - 2s 3ms/step - loss: 0.4571 - accuracy: 0.8429 - val_loss: 0.5104 - val_accuracy: 0.8337\n"
          ]
        }
      ]
    },
    {
      "cell_type": "markdown",
      "source": [
        "#función de perdida"
      ],
      "metadata": {
        "id": "WcjYCIFvl3aj"
      }
    },
    {
      "cell_type": "code",
      "source": [
        "plt.xlabel(\"# Epoca\")\n",
        "plt.ylabel(\"Magnitud de pérdida\")\n",
        "plt.plot(historial.history[\"loss\"])\n",
        "plt.show()"
      ],
      "metadata": {
        "colab": {
          "base_uri": "https://localhost:8080/",
          "height": 283
        },
        "id": "86UEOV-8pq8o",
        "outputId": "1df15276-789f-455a-fe08-9dc23fbdf06d"
      },
      "execution_count": 8,
      "outputs": [
        {
          "output_type": "display_data",
          "data": {
            "text/plain": [
              "<Figure size 432x288 with 1 Axes>"
            ],
            "image/png": "[encoded data removed]"
          },
          "metadata": {
            "needs_background": "light"
          }
        }
      ]
    },
    {
      "cell_type": "markdown",
      "source": [
        "#Prueba del modelo"
      ],
      "metadata": {
        "id": "11wFkG4YtQ9h"
      }
    },
    {
      "cell_type": "markdown",
      "source": [
        "Se prueba el modelo con la función predict, con este ejemplo se tomo la primera imagen del dataset de prueba que es un bota con la etiqueta 9 "
      ],
      "metadata": {
        "id": "BKvnj8F6tVz9"
      }
    },
    {
      "cell_type": "markdown",
      "source": [
        "Se imprime la image 1 del dataset de prueba"
      ],
      "metadata": {
        "id": "a5n7VPEetqtm"
      }
    },
    {
      "cell_type": "code",
      "source": [
        "imagen = ejemplo\n",
        "plt.imshow(imagen,cmap='gray')\n",
        "plt.xlabel([y_train[0]])\n",
        "plt.show()"
      ],
      "metadata": {
        "colab": {
          "base_uri": "https://localhost:8080/",
          "height": 279
        },
        "id": "Ee5pjwaPspmO",
        "outputId": "0bee13d4-0883-4fd0-bdf8-0039f41f438c"
      },
      "execution_count": 78,
      "outputs": [
        {
          "output_type": "display_data",
          "data": {
            "text/plain": [
              "<Figure size 432x288 with 1 Axes>"
            ],
            "image/png": "[encoded data removed]"
          },
          "metadata": {
            "needs_background": "light"
          }
        }
      ]
    },
    {
      "cell_type": "code",
      "source": [
        "x_test[[0]].shape"
      ],
      "metadata": {
        "colab": {
          "base_uri": "https://localhost:8080/"
        },
        "id": "kOk_XnvcpCrL",
        "outputId": "f7f20bc9-ba08-4ef1-8f22-cb4808b9ef41"
      },
      "execution_count": 79,
      "outputs": [
        {
          "output_type": "execute_result",
          "data": {
            "text/plain": [
              "(1, 784)"
            ]
          },
          "metadata": {},
          "execution_count": 79
        }
      ]
    },
    {
      "cell_type": "markdown",
      "source": [
        "Se utiliza el metodo predict para que el modelo nos prediga a que clase corresponde"
      ],
      "metadata": {
        "id": "fIvPq3OBtw_G"
      }
    },
    {
      "cell_type": "code",
      "source": [
        "modelo.predict(x_test[[0]])"
      ],
      "metadata": {
        "colab": {
          "base_uri": "https://localhost:8080/"
        },
        "id": "NB_c0Wc8oEDv",
        "outputId": "be16ed90-8cde-4069-a59b-e50a24ca8a13"
      },
      "execution_count": 80,
      "outputs": [
        {
          "output_type": "execute_result",
          "data": {
            "text/plain": [
              "array([[1.0113135e-03, 3.3593105e-04, 3.9066586e-01, 5.6407480e-03,\n",
              "        5.5353725e-01, 3.9913192e-07, 4.7925465e-02, 2.1552924e-14,\n",
              "        8.8301848e-04, 4.2329799e-11]], dtype=float32)"
            ]
          },
          "metadata": {},
          "execution_count": 80
        }
      ]
    },
    {
      "cell_type": "markdown",
      "source": [
        "Se implementa la funcion srgmax para obtener el valor mas grande el modelo predice que es 9 \"Ankle boot\" la categoria a la que pertenece "
      ],
      "metadata": {
        "id": "Gqw_Ie2WuAlC"
      }
    },
    {
      "cell_type": "code",
      "source": [
        "p = np.argmax(modelo.predict(x_test[[0]]))\n",
        "p"
      ],
      "metadata": {
        "colab": {
          "base_uri": "https://localhost:8080/"
        },
        "id": "XUzz2vCVpwTs",
        "outputId": "501df7d6-1894-49e3-db9f-9429c3598a0b"
      },
      "execution_count": 82,
      "outputs": [
        {
          "output_type": "execute_result",
          "data": {
            "text/plain": [
              "4"
            ]
          },
          "metadata": {},
          "execution_count": 82
        }
      ]
    },
    {
      "cell_type": "markdown",
      "source": [
        "Conclusión:\n",
        "\n",
        "La implementación y el tiempo de entrenamiento es más rapido usando keras\n",
        "La exactitud con este entrenamiento es de 85 % +- 2 en cada prueba.\n",
        "\n",
        "Se realizo algunos cambios con resécto a la implementación solo con tensorflow como: Las funciones de activación, las epocas, el lote de entrenamiento.\n",
        "\n",
        "\n",
        "En esta prueba por tiempo y exactitud keras es superior, anque limita en gran medida algunos parametros que se pueden modificar en tensorflow.\n"
      ],
      "metadata": {
        "id": "o0F1gjGJwEWn"
      }
    },
    {
      "cell_type": "markdown",
      "source": [
        "Trabajos Futuros:\n",
        "\n",
        "Se recomineda usar Dropout layer para desactivar algunas neuronas al azar y compense el rendimiento en su conjunto\n",
        "\n",
        "Para este tipo de problemas de imagenbes es recomendable usar redes convolucionales"
      ],
      "metadata": {
        "id": "x-BvkxH6vb5X"
      }
    },
    {
      "cell_type": "markdown",
      "source": [
        "Referencias:\n",
        "\n",
        "Notas y código de la clases Redes Neuronales Avanzadas (B22)\n",
        "\n",
        "https://www.tensorflow.org/\n",
        "\n",
        "https://keras.io/\n",
        "\n",
        "https://www.youtube.com/watch?v=iX_on3VxZzk"
      ],
      "metadata": {
        "id": "W-1CvtOAv80c"
      }
    },
    {
      "cell_type": "code",
      "source": [],
      "metadata": {
        "id": "u0Mp0ARAv9bY"
      },
      "execution_count": null,
      "outputs": []
    }
  ]
}